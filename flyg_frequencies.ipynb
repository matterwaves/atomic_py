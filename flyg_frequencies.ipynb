{
 "cells": [
  {
   "cell_type": "code",
   "execution_count": 1,
   "metadata": {},
   "outputs": [
    {
     "name": "stdout",
     "output_type": "stream",
     "text": [
      "Cesium-133\n",
      "\n",
      "2P_3/2\n",
      "Line-center=351725718.5 MHz\n",
      "Lifetime=30.473 ns\n",
      "F=5  263.9 MHz  (0.56  MHz/G)\n",
      "F=4  12.8 MHz  (0.37  MHz/G)\n",
      "F=3  -188.5 MHz  (0.00  MHz/G)\n",
      "F=2  -339.7 MHz  (-0.93  MHz/G)\n",
      "\n",
      "\n",
      "\n",
      "\n",
      "\n",
      "2P_1/2\n",
      "Line-center=335116048.807 MHz\n",
      "Lifetime=34.894 ns\n",
      "F=4  510.9 MHz  (0.12  MHz/G)\n",
      "F=3  -656.8 MHz  (-0.12  MHz/G)\n",
      "\n",
      "\n",
      "\n",
      "\n",
      "\n",
      "2S_1/2\n",
      "Line-center=0 MHz\n",
      "Lifetime=None ns\n",
      "F=4  4021.8 MHz  (0.35  MHz/G)\n",
      "F=3  -5170.9 MHz  (-0.35  MHz/G)\n"
     ]
    }
   ],
   "source": [
    "import atom\n",
    "from numpy import pi,e,sin,cos,log,sqrt\n",
    "\n",
    "## Initialize the cesium class\n",
    "Cs=atom.cesium()\n",
    "print(Cs)"
   ]
  },
  {
   "cell_type": "code",
   "execution_count": 16,
   "metadata": {},
   "outputs": [
    {
     "name": "stdout",
     "output_type": "stream",
     "text": [
      "lockpoint=351730625 MHz,\n",
      "f_4to5=351721961 MHz,\n",
      "f_cool=351721951 MHz\n",
      "f_3to4=351730902 MHz,\n",
      "EOM_spec=8855 MHz,\n",
      "EOM_repump=8916 MHz,\n"
     ]
    }
   ],
   "source": [
    "## lock onto F3-->F2/3 crossover\n",
    "lockpoint=(Cs.P32.F2.center+Cs.P32.F3.center)/2+Cs.P32.center-Cs.S12.F3.center\n",
    "print(f\"{lockpoint=:.0f} MHz,\")\n",
    "\n",
    "## Major cooling line\n",
    "f_4to5=Cs.P32.F5.center+Cs.P32.center-Cs.S12.F4.center\n",
    "print(f\"{f_4to5=:.0f} MHz,\")\n",
    "detuning_mot=10 #MHz\n",
    "f_cool=f_4to5-detuning_mot\n",
    "print(f\"{f_cool=:.0f} MHz\")\n",
    "\n",
    "## Repump line\n",
    "f_3to4=Cs.P32.F4.center+Cs.P32.center-Cs.S12.F3.center\n",
    "\n",
    "AOM_cooling=180 #MHz\n",
    "AOM_repump=216 #MHz\n",
    "\n",
    "carrier_freq=f_cool-AOM_cooling\n",
    "EOM_spec=lockpoint-carrier_freq\n",
    "\n",
    "print(f\"{f_3to4=:.0f} MHz,\")\n",
    "\n",
    "#EOM_repump=f_3to4+(AOM_repump-AOM_cooling)-f_cool\n",
    "EOM_repump=f_3to4-carrier_freq-AOM_repump\n",
    "print(f\"{EOM_spec=:.0f} MHz,\")\n",
    "print(f\"{EOM_repump=:.0f} MHz,\")"
   ]
  },
  {
   "cell_type": "code",
   "execution_count": 3,
   "metadata": {},
   "outputs": [
    {
     "name": "stdout",
     "output_type": "stream",
     "text": [
      "EOM_raman=9192.63 MHz\n",
      "EOM_spec=9039 MHz,\n"
     ]
    }
   ],
   "source": [
    "# During interferometry, only the raman beam matters\n",
    "EOM_raman=Cs.S12.F4.center-Cs.S12.F3.center\n",
    "print(f\"{EOM_raman=:.2f} MHz\")\n",
    "\n",
    "## Need to choose where to put the single photon detuning\n",
    "## In minig, it was 93MHz blue to the 4->4 transition\n",
    "f_4to4=Cs.P32.F4.center+Cs.P32.center-Cs.S12.F4.center\n",
    "carrier_freq=f_4to4+93\n",
    "EOM_spec=lockpoint-carrier_freq+AOM_repump\n",
    "print(f\"{EOM_spec=:.0f} MHz,\")"
   ]
  },
  {
   "cell_type": "code",
   "execution_count": 13,
   "metadata": {},
   "outputs": [
    {
     "data": {
      "text/plain": [
       "351730902.15388066"
      ]
     },
     "execution_count": 13,
     "metadata": {},
     "output_type": "execute_result"
    }
   ],
   "source": []
  },
  {
   "cell_type": "code",
   "execution_count": null,
   "metadata": {},
   "outputs": [],
   "source": []
  }
 ],
 "metadata": {
  "kernelspec": {
   "display_name": "Python 3",
   "language": "python",
   "name": "python3"
  },
  "language_info": {
   "codemirror_mode": {
    "name": "ipython",
    "version": 3
   },
   "file_extension": ".py",
   "mimetype": "text/x-python",
   "name": "python",
   "nbconvert_exporter": "python",
   "pygments_lexer": "ipython3",
   "version": "3.8.3"
  }
 },
 "nbformat": 4,
 "nbformat_minor": 4
}
