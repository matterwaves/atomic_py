{
 "cells": [
  {
   "cell_type": "code",
   "execution_count": 1,
   "metadata": {},
   "outputs": [],
   "source": [
    "import mot\n",
    "import atom\n",
    "import numpy as np\n",
    "from numpy import sin,cos,e,pi,sqrt,log"
   ]
  },
  {
   "cell_type": "code",
   "execution_count": 2,
   "metadata": {},
   "outputs": [],
   "source": [
    "Rb=atom.rubidium87()\n",
    "Cs=atom.cesium()"
   ]
  },
  {
   "cell_type": "code",
   "execution_count": 3,
   "metadata": {},
   "outputs": [
    {
     "name": "stdout",
     "output_type": "stream",
     "text": [
      "mF=-2\n",
      "\tmFF=-3\n",
      "\t\tdg=1.39 MHz/gauss\n",
      "\t\tB=0.72 Gauss/MHz detune\n",
      "\tmFF=-2\n",
      "\t\tdg=0.46 MHz/gauss\n",
      "\t\tB=2.17 Gauss/MHz detune\n",
      "\tmFF=-1\n",
      "\t\tdg=-0.47 MHz/gauss\n",
      "\t\tB=-2.13 Gauss/MHz detune\n",
      "mF=-1\n",
      "\tmFF=-2\n",
      "\t\tdg=1.16 MHz/gauss\n",
      "\t\tB=0.86 Gauss/MHz detune\n",
      "\tmFF=-1\n",
      "\t\tdg=0.23 MHz/gauss\n",
      "\t\tB=4.35 Gauss/MHz detune\n",
      "\tmFF=0\n",
      "\t\tdg=-0.70 MHz/gauss\n",
      "\t\tB=-1.43 Gauss/MHz detune\n",
      "mF=0\n",
      "\tmFF=-1\n",
      "\t\tdg=0.93 MHz/gauss\n",
      "\t\tB=1.08 Gauss/MHz detune\n",
      "\tmFF=0\n",
      "\t\tdg=0.00 MHz/gauss\n",
      "\t\tB=inf Gauss/MHz detune\n",
      "\tmFF=1\n",
      "\t\tdg=-0.93 MHz/gauss\n",
      "\t\tB=-1.08 Gauss/MHz detune\n",
      "mF=1\n",
      "\tmFF=0\n",
      "\t\tdg=0.70 MHz/gauss\n",
      "\t\tB=1.43 Gauss/MHz detune\n",
      "\tmFF=1\n",
      "\t\tdg=-0.23 MHz/gauss\n",
      "\t\tB=-4.35 Gauss/MHz detune\n",
      "\tmFF=2\n",
      "\t\tdg=-1.16 MHz/gauss\n",
      "\t\tB=-0.86 Gauss/MHz detune\n",
      "mF=2\n",
      "\tmFF=1\n",
      "\t\tdg=0.47 MHz/gauss\n",
      "\t\tB=2.13 Gauss/MHz detune\n",
      "\tmFF=2\n",
      "\t\tdg=-0.46 MHz/gauss\n",
      "\t\tB=-2.17 Gauss/MHz detune\n",
      "\tmFF=3\n",
      "\t\tdg=-1.39 MHz/gauss\n",
      "\t\tB=-0.72 Gauss/MHz detune\n"
     ]
    },
    {
     "name": "stderr",
     "output_type": "stream",
     "text": [
      "<ipython-input-3-ebd6abf93261>:19: RuntimeWarning: divide by zero encountered in double_scalars\n",
      "  B=1/dg\n"
     ]
    }
   ],
   "source": [
    "## Do Rubidium first\n",
    "\n",
    "## lande g-factors for initial and final states\n",
    "## [MHz/gauss]\n",
    "F=2\n",
    "gF=Rb.D2.initial.F2.B_shift\n",
    "\n",
    "FF=3\n",
    "gFF=Rb.D2.final.F3.B_shift\n",
    "\n",
    "# initial zeeman sublevel\n",
    "mF=-2\n",
    "for mF in range(-F,F+1):\n",
    "    print(f\"mF={mF}\")\n",
    "    for mFF in np.array([-1,0,1])+mF :\n",
    "        print(f\"\\tmFF={mFF}\")\n",
    "        dg=-mFF*gFF + mF*gF \n",
    "        print(f\"\\t\\tdg={dg:0.2f} MHz/gauss\")\n",
    "        B=1/dg\n",
    "        print(f\"\\t\\tB={B:0.2f} Gauss/MHz detune\")"
   ]
  },
  {
   "cell_type": "code",
   "execution_count": 5,
   "metadata": {},
   "outputs": [
    {
     "name": "stdout",
     "output_type": "stream",
     "text": [
      "mF=-4\n",
      "\tmFF=-5\n",
      "\tdg=1.40 MHz/gauss\n",
      "\t\tB=0.71 Gauss/MHz detune\n",
      "\tmFF=-4\n",
      "\tdg=0.84 MHz/gauss\n",
      "\t\tB=1.19 Gauss/MHz detune\n",
      "\tmFF=-3\n",
      "\tdg=0.28 MHz/gauss\n",
      "\t\tB=3.57 Gauss/MHz detune\n",
      "mF=-3\n",
      "\tmFF=-4\n",
      "\tdg=1.19 MHz/gauss\n",
      "\t\tB=0.84 Gauss/MHz detune\n",
      "\tmFF=-3\n",
      "\tdg=0.63 MHz/gauss\n",
      "\t\tB=1.59 Gauss/MHz detune\n",
      "\tmFF=-2\n",
      "\tdg=0.07 MHz/gauss\n",
      "\t\tB=14.29 Gauss/MHz detune\n",
      "mF=-2\n",
      "\tmFF=-3\n",
      "\tdg=0.98 MHz/gauss\n",
      "\t\tB=1.02 Gauss/MHz detune\n",
      "\tmFF=-2\n",
      "\tdg=0.42 MHz/gauss\n",
      "\t\tB=2.38 Gauss/MHz detune\n",
      "\tmFF=-1\n",
      "\tdg=-0.14 MHz/gauss\n",
      "\t\tB=-7.14 Gauss/MHz detune\n",
      "mF=-1\n",
      "\tmFF=-2\n",
      "\tdg=0.77 MHz/gauss\n",
      "\t\tB=1.30 Gauss/MHz detune\n",
      "\tmFF=-1\n",
      "\tdg=0.21 MHz/gauss\n",
      "\t\tB=4.76 Gauss/MHz detune\n",
      "\tmFF=0\n",
      "\tdg=-0.35 MHz/gauss\n",
      "\t\tB=-2.86 Gauss/MHz detune\n",
      "mF=0\n",
      "\tmFF=-1\n",
      "\tdg=0.56 MHz/gauss\n",
      "\t\tB=1.79 Gauss/MHz detune\n",
      "\tmFF=0\n",
      "\tdg=0.00 MHz/gauss\n",
      "\t\tB=inf Gauss/MHz detune\n",
      "\tmFF=1\n",
      "\tdg=-0.56 MHz/gauss\n",
      "\t\tB=-1.79 Gauss/MHz detune\n",
      "mF=1\n",
      "\tmFF=0\n",
      "\tdg=0.35 MHz/gauss\n",
      "\t\tB=2.86 Gauss/MHz detune\n",
      "\tmFF=1\n",
      "\tdg=-0.21 MHz/gauss\n",
      "\t\tB=-4.76 Gauss/MHz detune\n",
      "\tmFF=2\n",
      "\tdg=-0.77 MHz/gauss\n",
      "\t\tB=-1.30 Gauss/MHz detune\n",
      "mF=2\n",
      "\tmFF=1\n",
      "\tdg=0.14 MHz/gauss\n",
      "\t\tB=7.14 Gauss/MHz detune\n",
      "\tmFF=2\n",
      "\tdg=-0.42 MHz/gauss\n",
      "\t\tB=-2.38 Gauss/MHz detune\n",
      "\tmFF=3\n",
      "\tdg=-0.98 MHz/gauss\n",
      "\t\tB=-1.02 Gauss/MHz detune\n",
      "mF=3\n",
      "\tmFF=2\n",
      "\tdg=-0.07 MHz/gauss\n",
      "\t\tB=-14.29 Gauss/MHz detune\n",
      "\tmFF=3\n",
      "\tdg=-0.63 MHz/gauss\n",
      "\t\tB=-1.59 Gauss/MHz detune\n",
      "\tmFF=4\n",
      "\tdg=-1.19 MHz/gauss\n",
      "\t\tB=-0.84 Gauss/MHz detune\n",
      "mF=4\n",
      "\tmFF=3\n",
      "\tdg=-0.28 MHz/gauss\n",
      "\t\tB=-3.57 Gauss/MHz detune\n",
      "\tmFF=4\n",
      "\tdg=-0.84 MHz/gauss\n",
      "\t\tB=-1.19 Gauss/MHz detune\n",
      "\tmFF=5\n",
      "\tdg=-1.40 MHz/gauss\n",
      "\t\tB=-0.71 Gauss/MHz detune\n"
     ]
    },
    {
     "name": "stderr",
     "output_type": "stream",
     "text": [
      "<ipython-input-5-5285a4da29b0>:18: RuntimeWarning: divide by zero encountered in double_scalars\n",
      "  B=1/dg\n"
     ]
    }
   ],
   "source": [
    "## Now do Cesium\n",
    "## lande g-factors for initial and final states\n",
    "## [MHz/gauss]\n",
    "F=4\n",
    "gF=Cs.D2.initial.F4.B_shift\n",
    "\n",
    "FF=5\n",
    "gFF=Cs.D2.final.F5.B_shift\n",
    "\n",
    "# initial zeeman sublevel\n",
    "mF=-2\n",
    "for mF in range(-F,F+1):\n",
    "    print(f\"mF={mF}\")\n",
    "    for mFF in np.array([-1,0,1])+mF :\n",
    "        print(f\"\\tmFF={mFF}\")\n",
    "        dg=-mFF*gFF + mF*gF \n",
    "        print(f\"\\tdg={dg:0.2f} MHz/gauss\")\n",
    "        B=1/dg\n",
    "        print(f\"\\t\\tB={B:0.2f} Gauss/MHz detune\")"
   ]
  },
  {
   "cell_type": "code",
   "execution_count": 21,
   "metadata": {},
   "outputs": [
    {
     "data": {
      "text/plain": [
       "16.5"
      ]
     },
     "execution_count": 21,
     "metadata": {},
     "output_type": "execute_result"
    }
   ],
   "source": [
    "66/80 * 20"
   ]
  },
  {
   "cell_type": "code",
   "execution_count": 7,
   "metadata": {},
   "outputs": [
    {
     "name": "stdout",
     "output_type": "stream",
     "text": [
      "Picture:  1 - Circle color:  0 255 0\n"
     ]
    }
   ],
   "source": [
    "#Import the library\n",
    "from PIL import Image, ImageDraw\n",
    "\n",
    "#Creating new Image object for background. The color 'scheme' is 'RGB' and the size 500x500pixels\n",
    "img = Image.new(\"RGB\", (500, 500)) \n",
    "\n",
    "#Creating object from img to draw on.\n",
    "draw = ImageDraw.Draw(img) \n",
    "\n",
    "#First drawing a rectangle from (x,y) to (x,y). With color 'fill=(..)' and border 'outline(..)' \n",
    "#https://www.geeksforgeeks.org/python-pil-imagedraw-draw-rectangle/\n",
    "draw.rectangle((50, 50, 450, 450), fill=(0, 192, 192), outline=(255, 255, 255))     \n",
    "\n",
    "#Variables for the color of the circle/ellipse\n",
    "r = 0\n",
    "g = 255\n",
    "b = 0\n",
    "NUMBER_OF_PICTURES = 1      #Change this variable for more or less pictures       \n",
    "\n",
    "#For loop to do it 'NUMBER_OF_PICTURES' times\n",
    "for i in range(NUMBER_OF_PICTURES):\n",
    "    #Printing calculated color\n",
    "    print('Picture: ',i+1,'- Circle color: ', r, g, b)\n",
    "\n",
    "    #Add for loop here for printing 4 times. \n",
    "    #Note: There will be no difference in the output because they then are on top of each other\n",
    "    draw.ellipse(((50, 50), (450, 450)), fill=(r, g, b), outline=(0, 0, 0))\n",
    "\n",
    "    #Showing the image\n",
    "    img.show()\n",
    "\n",
    "    #Changing the colors with a calculation so to not exceed the '255' limit for the 'fill=(r, g, b)' argument of the circle drawing\n",
    "    r = r + int((255/NUMBER_OF_PICTURES))\n",
    "    g = g - int((255/NUMBER_OF_PICTURES))\n",
    "    b = b + int((255/NUMBER_OF_PICTURES))"
   ]
  },
  {
   "cell_type": "code",
   "execution_count": null,
   "metadata": {},
   "outputs": [],
   "source": []
  }
 ],
 "metadata": {
  "kernelspec": {
   "display_name": "Python 3",
   "language": "python",
   "name": "python3"
  },
  "language_info": {
   "codemirror_mode": {
    "name": "ipython",
    "version": 3
   },
   "file_extension": ".py",
   "mimetype": "text/x-python",
   "name": "python",
   "nbconvert_exporter": "python",
   "pygments_lexer": "ipython3",
   "version": "3.8.3"
  }
 },
 "nbformat": 4,
 "nbformat_minor": 4
}
