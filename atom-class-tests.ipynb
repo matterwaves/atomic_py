{
 "cells": [
  {
   "cell_type": "code",
   "execution_count": 6,
   "metadata": {},
   "outputs": [
    {
     "name": "stdout",
     "output_type": "stream",
     "text": [
      "Cesium-133\n",
      "\n",
      "2P_3/2\n",
      "Line-center=351725718.5 MHz\n",
      "Lifetime=30.473 ns\n",
      "F=5  263.9 MHz  (0.56  MHz/G)\n",
      "F=4  12.8 MHz  (0.37  MHz/G)\n",
      "F=3  -188.5 MHz  (0.00  MHz/G)\n",
      "F=2  -339.7 MHz  (-0.93  MHz/G)\n",
      "\n",
      "\n",
      "\n",
      "\n",
      "\n",
      "2P_1/2\n",
      "Line-center=335116048.807 MHz\n",
      "Lifetime=34.894 ns\n",
      "F=4  510.9 MHz  (0.12  MHz/G)\n",
      "F=3  -656.8 MHz  (-0.12  MHz/G)\n",
      "\n",
      "\n",
      "\n",
      "\n",
      "\n",
      "2S_1/2\n",
      "Line-center=0 MHz\n",
      "Lifetime=None ns\n",
      "F=4  4021.8 MHz  (0.35  MHz/G)\n",
      "F=3  -5170.9 MHz  (-0.35  MHz/G)\n",
      "\n",
      "\n",
      "\n",
      "\n",
      "\n",
      "\n",
      "wavelength: 852.347 nm\n",
      "wavenumber: 1.173 /um\n",
      "linewidth: 2*pi 5.223 MHz\n",
      "recoil velocity: 3.522 mm/s\n",
      "recoil energy: 2*pi 2.066 kHz\n",
      "recoil temperature: 0.198 uK\n",
      "Doppler temperature: 125.328 uK\n",
      "Saturation intensity: 0.110 mW/cm^2\n",
      "scattering cross-section: 0.347 um^2\n",
      "MOT acceleration scale:57796.620 m/s^2\n",
      "Doppler coefficient:0.225 Hz/ m/s\n",
      "MOT magnetic coefficient:0.006 1/Gauss\n"
     ]
    }
   ],
   "source": [
    "from atomic_py import atom\n",
    "from numpy import pi,e,sin,cos,log,sqrt\n",
    "\n",
    "## Initialize the cesium class\n",
    "Cs=atom.cesium()\n",
    "print(Cs)\n",
    "\n",
    "## A bunch of precomputed parameters that are relevent for laser cooling\n",
    "print(\"\\n\"*5)\n",
    "## These have all been verified against the steck data\n",
    "## EXCEPT FOR: saturation intensity, scattering cross-section\n",
    "Cs.D2.print_parameters()\n"
   ]
  },
  {
   "cell_type": "code",
   "execution_count": 8,
   "metadata": {},
   "outputs": [
    {
     "name": "stdout",
     "output_type": "stream",
     "text": [
      "I_sat: 0.000018 W/cm^2\n",
      "I_sat: 0.110230 W/cm^2\n",
      "I_sat (steck): 1.1023 W/cm^2\n"
     ]
    }
   ],
   "source": [
    "## Saturation intensity\n",
    "## Steck says that the resonant I_sat for circularly polz is\n",
    "## I_sat = hbar * omega^3 Gamma / (12 pi c^2) \n",
    "## (eq 61)\n",
    "\n",
    "## Everything is in SI uints:\n",
    "## [W/m^2]\n",
    "I_sat=atom.hbar*Cs.D2.omega**3*Cs.D2.linewidth / (12*pi*atom.c**2)\n",
    "print(\"I_sat: {0:5f} W/cm^2\".format(I_sat*1e3/1e4))\n",
    "print(\"I_sat: {0:5f} W/cm^2\".format(Cs.D2.Isat*1e3/1e4))\n",
    "print(\"I_sat (steck): 1.1023 W/cm^2\")\n",
    "\n",
    "## Its way off....\n",
    "## Why?"
   ]
  },
  {
   "cell_type": "code",
   "execution_count": 9,
   "metadata": {},
   "outputs": [
    {
     "name": "stdout",
     "output_type": "stream",
     "text": [
      "FF=\t2\t3\t4\t5\t\n",
      "F=3\t[[sqrt(70)/14 sqrt(6)/4 sqrt(210)/28 0]     *4.4786\n",
      "F=4\t [0 sqrt(14)/12 sqrt(42)/12 sqrt(22)/6]]\n",
      "\n",
      "Cs.D2.F_FF: \n",
      " [[2.67647542 2.74257119 2.31789571 0.        ]\n",
      " [0.         1.3964489  2.41872044 3.50108267]]\n",
      "Cs.D2.F_FF_angle:\n",
      "  [[sqrt(70)/14 sqrt(6)/4 sqrt(210)/28 0]\n",
      " [0 sqrt(14)/12 sqrt(42)/12 sqrt(22)/6]]\n",
      "Cs.D2.F3_FF4:  2.317895710553001\n",
      "<J|er|JJ>:  4.4786\n",
      "<F=3,mF=3|er_-1|FF=4,mFF=4> :  sqrt(30)/12\n",
      "<F=4,mF=3|er_+1|FF=4,mFF=2> :  sqrt(210)/168\n",
      "<F=4,mF=3|er_+1|FF=4,mFF=0> :  0\n",
      "Cs.D2.F3_mF3_FF4_mFF4_q11:  2.0441918717021976\n",
      "Cs.D2.F3_mF33_FF4_mFF44_q1:  2.0441918717021976\n"
     ]
    },
    {
     "ename": "AttributeError",
     "evalue": "'transition' object has no attribute 'F3_mF33_FF4_mFF44_q0'",
     "output_type": "error",
     "traceback": [
      "\u001b[0;31m---------------------------------------------------------------------------\u001b[0m",
      "\u001b[0;31mAttributeError\u001b[0m                            Traceback (most recent call last)",
      "\u001b[0;32m<ipython-input-9-28acaf67f1fe>\u001b[0m in \u001b[0;36m<module>\u001b[0;34m\u001b[0m\n\u001b[1;32m     33\u001b[0m \u001b[0mprint\u001b[0m\u001b[0;34m(\u001b[0m\u001b[0;34m\"Cs.D2.F3_mF33_FF4_mFF44_q1: \"\u001b[0m\u001b[0;34m,\u001b[0m\u001b[0mCs\u001b[0m\u001b[0;34m.\u001b[0m\u001b[0mD2\u001b[0m\u001b[0;34m.\u001b[0m\u001b[0mF3_mF33_FF4_mFF44_q1\u001b[0m\u001b[0;34m)\u001b[0m\u001b[0;34m\u001b[0m\u001b[0;34m\u001b[0m\u001b[0m\n\u001b[1;32m     34\u001b[0m \u001b[0;31m## But if you try to make a combination that doesnt exist, it will crash\u001b[0m\u001b[0;34m\u001b[0m\u001b[0;34m\u001b[0m\u001b[0;34m\u001b[0m\u001b[0m\n\u001b[0;32m---> 35\u001b[0;31m \u001b[0mCs\u001b[0m\u001b[0;34m.\u001b[0m\u001b[0mD2\u001b[0m\u001b[0;34m.\u001b[0m\u001b[0mF3_mF33_FF4_mFF44_q0\u001b[0m\u001b[0;34m\u001b[0m\u001b[0;34m\u001b[0m\u001b[0m\n\u001b[0m\u001b[1;32m     36\u001b[0m \u001b[0;34m\u001b[0m\u001b[0m\n\u001b[1;32m     37\u001b[0m \u001b[0;34m\u001b[0m\u001b[0m\n",
      "\u001b[0;31mAttributeError\u001b[0m: 'transition' object has no attribute 'F3_mF33_FF4_mFF44_q0'"
     ]
    }
   ],
   "source": [
    "## Inspect a specific transition\n",
    "## Lists the dipole transition matrix elements for the hyperfine transition\n",
    "## Initial (F) ---> Final (FF)\n",
    "print(Cs.D2)\n",
    "\n",
    "## This is available as a matrix\n",
    "## But the indexing is annoying since it must start at 0 and be strictly integer\n",
    "print(\"Cs.D2.F_FF: \\n\", Cs.D2.F_FF)\n",
    "\n",
    "## Also available symbolically in terms of the angular-momentum dependent factors\n",
    "print(\"Cs.D2.F_FF_angle:\\n \",Cs.D2.F_FF_angle)\n",
    "\n",
    "## When you need a specific value in a human readable form use this\n",
    "print(\"Cs.D2.F3_FF4: \",Cs.D2.F3_FF4)\n",
    "\n",
    "\n",
    "## These are computed from the fine-structure dipole element using wigner-eckhardt theorem\n",
    "print(\"<J|er|JJ>: \",Cs.D2.J_JJ)\n",
    "\n",
    "\n",
    "## zeeman-resolved matrix elements have too many indices so must be accessed individually\n",
    "## Must multiply by J_JJ to get full value\n",
    "## Cs.D2.dipole_matrix(F,mF,FF,mFF,q)\n",
    "#  q=+1,0,-1 for polariation of light\n",
    "print(\"<F=3,mF=3|er_-1|FF=4,mFF=4> : \",Cs.D2.dipole_matrix(3,3,4,4,-1))\n",
    "print(\"<F=4,mF=3|er_+1|FF=4,mFF=2> : \",Cs.D2.dipole_matrix(3,3,4,2,1))\n",
    "print(\"<F=4,mF=3|er_+1|FF=4,mFF=0> : \",Cs.D2.dipole_matrix(3,3,4,2,0))\n",
    "\n",
    "## When you dont' need to access programatically, you can use the human-readable tags\n",
    "## mF,mFF, or q may be negative\n",
    "## Use a repeated value for this case\n",
    "print(\"Cs.D2.F3_mF3_FF4_mFF4_q11: \",Cs.D2.F3_mF3_FF4_mFF4_q11)\n",
    "print(\"Cs.D2.F3_mF33_FF4_mFF44_q1: \",Cs.D2.F3_mF33_FF4_mFF44_q1)\n",
    "## But if you try to make a combination that doesnt exist, it will crash\n",
    "Cs.D2.F3_mF33_FF4_mFF44_q0\n",
    "\n",
    "\n",
    "\n"
   ]
  },
  {
   "cell_type": "code",
   "execution_count": null,
   "metadata": {},
   "outputs": [],
   "source": []
  }
 ],
 "metadata": {
  "kernelspec": {
   "display_name": "Python 3",
   "language": "python",
   "name": "python3"
  },
  "language_info": {
   "codemirror_mode": {
    "name": "ipython",
    "version": 3
   },
   "file_extension": ".py",
   "mimetype": "text/x-python",
   "name": "python",
   "nbconvert_exporter": "python",
   "pygments_lexer": "ipython3",
   "version": "3.8.3"
  }
 },
 "nbformat": 4,
 "nbformat_minor": 4
}
